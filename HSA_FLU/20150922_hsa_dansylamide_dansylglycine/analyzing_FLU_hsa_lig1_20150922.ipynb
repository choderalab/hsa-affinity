{
 "cells": [
  {
   "cell_type": "markdown",
   "metadata": {},
   "source": [
    "# FLUORESCENCE BINDING ASSAY ANALYSIS\n",
    "Experiment date: 2015/09/22\n",
    "\n",
    "Protein: HSA\n",
    "\n",
    "Fluorescent ligand : dansylamide (lig1)"
   ]
  },
  {
   "cell_type": "markdown",
   "metadata": {},
   "source": [
    "Xml parsing parts adopted from Sonya's assaytools/examples/fluorescence-binding-assay/Src-gefitinib fluorescence simple.ipynb"
   ]
  },
  {
   "cell_type": "code",
   "execution_count": 1,
   "metadata": {
    "collapsed": false
   },
   "outputs": [
    {
     "name": "stdout",
     "output_type": "stream",
     "text": [
      "Populating the interactive namespace from numpy and matplotlib\n"
     ]
    }
   ],
   "source": [
    "import numpy as np\n",
    "import matplotlib.pyplot as plt\n",
    "from lxml import etree\n",
    "import pandas as pd\n",
    "import os\n",
    "import matplotlib.cm as cm \n",
    "import seaborn as sns\n",
    "%pylab inline"
   ]
  },
  {
   "cell_type": "code",
   "execution_count": 2,
   "metadata": {
    "collapsed": true
   },
   "outputs": [],
   "source": [
    "# Get read and position data of each fluorescence reading section\n",
    "def get_wells_from_section(path):\n",
    "    reads = path.xpath(\"*/Well\")\n",
    "    wellIDs = [read.attrib['Pos'] for read in reads]\n",
    "\n",
    "    data = [(float(s.text), r.attrib['Pos'])\n",
    "         for r in reads\n",
    "         for s in r]\n",
    "\n",
    "    datalist = {\n",
    "      well : value\n",
    "      for (value, well) in data\n",
    "    }\n",
    "    \n",
    "    welllist = [\n",
    "                [\n",
    "                 datalist[chr(64 + row) + str(col)]          \n",
    "                 if chr(64 + row) + str(col) in datalist else None\n",
    "                 for row in range(1,9)\n",
    "                ]\n",
    "                for col in range(1,13)\n",
    "                ]\n",
    "                \n",
    "    return welllist"
   ]
  },
  {
   "cell_type": "code",
   "execution_count": 6,
   "metadata": {
    "collapsed": false
   },
   "outputs": [
    {
     "name": "stdout",
     "output_type": "stream",
     "text": [
      "MI_FLU_hsa_lig1_20150922_\n"
     ]
    }
   ],
   "source": [
    "file_lig1=\"MI_FLU_hsa_lig1_20150922_150518.xml\"\n",
    "file_name = os.path.splitext(file_lig1)[0]\n",
    "label = file_name[0:25]\n",
    "print label"
   ]
  },
  {
   "cell_type": "code",
   "execution_count": 8,
   "metadata": {
    "collapsed": false
   },
   "outputs": [
    {
     "name": "stdout",
     "output_type": "stream",
     "text": [
      "****The xml file MI_FLU_hsa_lig1_20150922_150518.xml has 3 data sections:****\n",
      "ex340_em480_topRead\n",
      "ex340_em480_bottomRead\n",
      "Abs_600\n"
     ]
    }
   ],
   "source": [
    "root = etree.parse(file_lig1)\n",
    "\n",
    "#find data sections\n",
    "Sections = root.xpath(\"/*/Section\")\n",
    "much = len(Sections)\n",
    "print \"****The xml file \" + file_lig1 + \" has %s data sections:****\" % much\n",
    "for sect in Sections:\n",
    "    print sect.attrib['Name']"
   ]
  },
  {
   "cell_type": "code",
   "execution_count": 9,
   "metadata": {
    "collapsed": false
   },
   "outputs": [
    {
     "data": {
      "text/html": [
       "<div>\n",
       "<table border=\"1\" class=\"dataframe\">\n",
       "  <thead>\n",
       "    <tr style=\"text-align: right;\">\n",
       "      <th></th>\n",
       "      <th>0</th>\n",
       "      <th>1</th>\n",
       "      <th>2</th>\n",
       "      <th>3</th>\n",
       "      <th>4</th>\n",
       "      <th>5</th>\n",
       "      <th>6</th>\n",
       "      <th>7</th>\n",
       "      <th>8</th>\n",
       "      <th>9</th>\n",
       "      <th>10</th>\n",
       "      <th>11</th>\n",
       "    </tr>\n",
       "  </thead>\n",
       "  <tbody>\n",
       "    <tr>\n",
       "      <th>A - HSA</th>\n",
       "      <td>947</td>\n",
       "      <td>636</td>\n",
       "      <td>434</td>\n",
       "      <td>296</td>\n",
       "      <td>212</td>\n",
       "      <td>152</td>\n",
       "      <td>114</td>\n",
       "      <td>92</td>\n",
       "      <td>78</td>\n",
       "      <td>70</td>\n",
       "      <td>70</td>\n",
       "      <td>67</td>\n",
       "    </tr>\n",
       "    <tr>\n",
       "      <th>B - Buffer</th>\n",
       "      <td>540</td>\n",
       "      <td>306</td>\n",
       "      <td>184</td>\n",
       "      <td>122</td>\n",
       "      <td>95</td>\n",
       "      <td>96</td>\n",
       "      <td>84</td>\n",
       "      <td>78</td>\n",
       "      <td>83</td>\n",
       "      <td>80</td>\n",
       "      <td>81</td>\n",
       "      <td>84</td>\n",
       "    </tr>\n",
       "    <tr>\n",
       "      <th>C - HSA</th>\n",
       "      <td>934</td>\n",
       "      <td>646</td>\n",
       "      <td>435</td>\n",
       "      <td>314</td>\n",
       "      <td>221</td>\n",
       "      <td>150</td>\n",
       "      <td>114</td>\n",
       "      <td>91</td>\n",
       "      <td>75</td>\n",
       "      <td>71</td>\n",
       "      <td>71</td>\n",
       "      <td>70</td>\n",
       "    </tr>\n",
       "    <tr>\n",
       "      <th>D - Buffer</th>\n",
       "      <td>572</td>\n",
       "      <td>311</td>\n",
       "      <td>182</td>\n",
       "      <td>130</td>\n",
       "      <td>98</td>\n",
       "      <td>86</td>\n",
       "      <td>80</td>\n",
       "      <td>82</td>\n",
       "      <td>85</td>\n",
       "      <td>78</td>\n",
       "      <td>81</td>\n",
       "      <td>80</td>\n",
       "    </tr>\n",
       "    <tr>\n",
       "      <th>E - HSA</th>\n",
       "      <td>935</td>\n",
       "      <td>652</td>\n",
       "      <td>457</td>\n",
       "      <td>307</td>\n",
       "      <td>267</td>\n",
       "      <td>157</td>\n",
       "      <td>108</td>\n",
       "      <td>86</td>\n",
       "      <td>78</td>\n",
       "      <td>71</td>\n",
       "      <td>70</td>\n",
       "      <td>71</td>\n",
       "    </tr>\n",
       "    <tr>\n",
       "      <th>F - Buffer</th>\n",
       "      <td>557</td>\n",
       "      <td>310</td>\n",
       "      <td>183</td>\n",
       "      <td>121</td>\n",
       "      <td>99</td>\n",
       "      <td>87</td>\n",
       "      <td>82</td>\n",
       "      <td>82</td>\n",
       "      <td>79</td>\n",
       "      <td>80</td>\n",
       "      <td>80</td>\n",
       "      <td>81</td>\n",
       "    </tr>\n",
       "    <tr>\n",
       "      <th>G - HSA</th>\n",
       "      <td>946</td>\n",
       "      <td>631</td>\n",
       "      <td>486</td>\n",
       "      <td>336</td>\n",
       "      <td>245</td>\n",
       "      <td>174</td>\n",
       "      <td>130</td>\n",
       "      <td>102</td>\n",
       "      <td>92</td>\n",
       "      <td>86</td>\n",
       "      <td>197</td>\n",
       "      <td>78</td>\n",
       "    </tr>\n",
       "    <tr>\n",
       "      <th>H - Buffer</th>\n",
       "      <td>651</td>\n",
       "      <td>364</td>\n",
       "      <td>210</td>\n",
       "      <td>139</td>\n",
       "      <td>113</td>\n",
       "      <td>107</td>\n",
       "      <td>96</td>\n",
       "      <td>98</td>\n",
       "      <td>93</td>\n",
       "      <td>89</td>\n",
       "      <td>97</td>\n",
       "      <td>93</td>\n",
       "    </tr>\n",
       "  </tbody>\n",
       "</table>\n",
       "</div>"
      ],
      "text/plain": [
       "             0    1    2    3    4    5    6    7   8   9    10  11\n",
       "A - HSA     947  636  434  296  212  152  114   92  78  70   70  67\n",
       "B - Buffer  540  306  184  122   95   96   84   78  83  80   81  84\n",
       "C - HSA     934  646  435  314  221  150  114   91  75  71   71  70\n",
       "D - Buffer  572  311  182  130   98   86   80   82  85  78   81  80\n",
       "E - HSA     935  652  457  307  267  157  108   86  78  71   70  71\n",
       "F - Buffer  557  310  183  121   99   87   82   82  79  80   80  81\n",
       "G - HSA     946  631  486  336  245  174  130  102  92  86  197  78\n",
       "H - Buffer  651  364  210  139  113  107   96   98  93  89   97  93"
      ]
     },
     "execution_count": 9,
     "metadata": {},
     "output_type": "execute_result"
    }
   ],
   "source": [
    "#Work with topread\n",
    "TopRead = root.xpath(\"/*/Section\")[0]\n",
    "welllist = get_wells_from_section(TopRead)\n",
    "\n",
    "df_topread = pd.DataFrame(welllist, columns = ['A - HSA','B - Buffer','C - HSA','D - Buffer', 'E - HSA','F - Buffer','G - HSA','H - Buffer'])\n",
    "df_topread.transpose()"
   ]
  },
  {
   "cell_type": "code",
   "execution_count": 10,
   "metadata": {
    "collapsed": true
   },
   "outputs": [],
   "source": [
    "# To generate cvs file\n",
    "# df_topread.transpose().to_csv(label + Sections[0].attrib['Name']+ \".csv\")"
   ]
  },
  {
   "cell_type": "markdown",
   "metadata": {},
   "source": [
    "## Calculating Molar Fluorescence (MF) of Free Ligand "
   ]
  },
  {
   "cell_type": "markdown",
   "metadata": {},
   "source": [
    "### 1. Maximum likelihood curve-fitting\n",
    "Find the maximum likelihood estimate, $\\theta^*$, i.e. the curve that minimizes the squared error $\\theta^* = \\text{argmin} \\sum_i |y_i - f_\\theta(x_i)|^2$ (assuming i.i.d. Gaussian noise)"
   ]
  },
  {
   "cell_type": "markdown",
   "metadata": {},
   "source": [
    "Y = MF*L + BKG\n",
    "\n",
    "Y: Fluorescence read (Flu unit)\n",
    "\n",
    "L: Total ligand concentration (uM)\n",
    "\n",
    "BKG: background fluorescence without ligand (Flu unit)\n",
    "\n",
    "MF: molar fluorescence of free ligand (Flu unit/ uM)\n"
   ]
  },
  {
   "cell_type": "code",
   "execution_count": 16,
   "metadata": {
    "collapsed": false
   },
   "outputs": [
    {
     "data": {
      "text/plain": [
       "array([  2.00000000e+02,   8.66000000e+01,   3.75000000e+01,\n",
       "         1.62000000e+01,   7.02000000e+00,   3.04000000e+00,\n",
       "         1.32000000e+00,   5.70000000e-01,   2.47000000e-01,\n",
       "         1.07000000e-01,   4.62000000e-02,   2.00000000e-02])"
      ]
     },
     "execution_count": 16,
     "metadata": {},
     "output_type": "execute_result"
    }
   ],
   "source": [
    "import numpy as np\n",
    "from scipy import optimize\n",
    "import matplotlib.pyplot as plt\n",
    "%matplotlib inline\n",
    "\n",
    "def model(x,slope,intercept):\n",
    "    ''' 1D linear model in the format scipy.optimize.curve_fit expects: '''\n",
    "    return x*slope + intercept\n",
    "\n",
    "# generate some data\n",
    "#X = np.random.rand(1000)\n",
    "#true_slope=1.0\n",
    "#true_intercept=0.0\n",
    "#noise = np.random.randn(len(X))*0.1\n",
    "#Y = model(X,slope=true_slope,intercept=true_intercept) + noise\n",
    "\n",
    "#ligand titration\n",
    "lig1=np.array([200.0000,86.6000,37.5000,16.2000,7.0200, 3.0400, 1.3200, 0.5700, 0.2470, 0.1070, 0.0462, 0.0200])\n",
    "lig1"
   ]
  },
  {
   "cell_type": "code",
   "execution_count": 19,
   "metadata": {
    "collapsed": false
   },
   "outputs": [
    {
     "data": {
      "text/plain": [
       "48"
      ]
     },
     "execution_count": 19,
     "metadata": {},
     "output_type": "execute_result"
    }
   ],
   "source": [
    "# Since I have 4 replicates\n",
    "L=np.concatenate((lig1, lig1, lig1, lig1))\n",
    "len(L)"
   ]
  },
  {
   "cell_type": "code",
   "execution_count": 36,
   "metadata": {
    "collapsed": false
   },
   "outputs": [
    {
     "data": {
      "text/html": [
       "<div>\n",
       "<table border=\"1\" class=\"dataframe\">\n",
       "  <thead>\n",
       "    <tr style=\"text-align: right;\">\n",
       "      <th></th>\n",
       "      <th>B - Buffer</th>\n",
       "      <th>D - Buffer</th>\n",
       "      <th>F - Buffer</th>\n",
       "      <th>H - Buffer</th>\n",
       "    </tr>\n",
       "  </thead>\n",
       "  <tbody>\n",
       "    <tr>\n",
       "      <th>0</th>\n",
       "      <td>540</td>\n",
       "      <td>572</td>\n",
       "      <td>557</td>\n",
       "      <td>651</td>\n",
       "    </tr>\n",
       "    <tr>\n",
       "      <th>1</th>\n",
       "      <td>306</td>\n",
       "      <td>311</td>\n",
       "      <td>310</td>\n",
       "      <td>364</td>\n",
       "    </tr>\n",
       "    <tr>\n",
       "      <th>2</th>\n",
       "      <td>184</td>\n",
       "      <td>182</td>\n",
       "      <td>183</td>\n",
       "      <td>210</td>\n",
       "    </tr>\n",
       "    <tr>\n",
       "      <th>3</th>\n",
       "      <td>122</td>\n",
       "      <td>130</td>\n",
       "      <td>121</td>\n",
       "      <td>139</td>\n",
       "    </tr>\n",
       "    <tr>\n",
       "      <th>4</th>\n",
       "      <td>95</td>\n",
       "      <td>98</td>\n",
       "      <td>99</td>\n",
       "      <td>113</td>\n",
       "    </tr>\n",
       "    <tr>\n",
       "      <th>5</th>\n",
       "      <td>96</td>\n",
       "      <td>86</td>\n",
       "      <td>87</td>\n",
       "      <td>107</td>\n",
       "    </tr>\n",
       "    <tr>\n",
       "      <th>6</th>\n",
       "      <td>84</td>\n",
       "      <td>80</td>\n",
       "      <td>82</td>\n",
       "      <td>96</td>\n",
       "    </tr>\n",
       "    <tr>\n",
       "      <th>7</th>\n",
       "      <td>78</td>\n",
       "      <td>82</td>\n",
       "      <td>82</td>\n",
       "      <td>98</td>\n",
       "    </tr>\n",
       "    <tr>\n",
       "      <th>8</th>\n",
       "      <td>83</td>\n",
       "      <td>85</td>\n",
       "      <td>79</td>\n",
       "      <td>93</td>\n",
       "    </tr>\n",
       "    <tr>\n",
       "      <th>9</th>\n",
       "      <td>80</td>\n",
       "      <td>78</td>\n",
       "      <td>80</td>\n",
       "      <td>89</td>\n",
       "    </tr>\n",
       "    <tr>\n",
       "      <th>10</th>\n",
       "      <td>81</td>\n",
       "      <td>81</td>\n",
       "      <td>80</td>\n",
       "      <td>97</td>\n",
       "    </tr>\n",
       "    <tr>\n",
       "      <th>11</th>\n",
       "      <td>84</td>\n",
       "      <td>80</td>\n",
       "      <td>81</td>\n",
       "      <td>93</td>\n",
       "    </tr>\n",
       "  </tbody>\n",
       "</table>\n",
       "</div>"
      ],
      "text/plain": [
       "    B - Buffer  D - Buffer  F - Buffer  H - Buffer\n",
       "0          540         572         557         651\n",
       "1          306         311         310         364\n",
       "2          184         182         183         210\n",
       "3          122         130         121         139\n",
       "4           95          98          99         113\n",
       "5           96          86          87         107\n",
       "6           84          80          82          96\n",
       "7           78          82          82          98\n",
       "8           83          85          79          93\n",
       "9           80          78          80          89\n",
       "10          81          81          80          97\n",
       "11          84          80          81          93"
      ]
     },
     "execution_count": 36,
     "metadata": {},
     "output_type": "execute_result"
    }
   ],
   "source": [
    "# Fluorescence read\n",
    "df_topread.loc[:,(\"B - Buffer\", \"D - Buffer\", \"F - Buffer\", \"H - Buffer\")]"
   ]
  },
  {
   "cell_type": "code",
   "execution_count": 41,
   "metadata": {
    "collapsed": false
   },
   "outputs": [],
   "source": [
    "B=df_topread.loc[:,(\"B - Buffer\")]\n",
    "D=df_topread.loc[:,(\"D - Buffer\")]\n",
    "F=df_topread.loc[:,(\"F - Buffer\")]\n",
    "H=df_topread.loc[:,(\"H - Buffer\")]\n",
    "\n",
    "Y = np.concatenate((B.as_matrix(),D.as_matrix(),F.as_matrix(),H.as_matrix()))"
   ]
  },
  {
   "cell_type": "code",
   "execution_count": 44,
   "metadata": {
    "collapsed": false
   },
   "outputs": [
    {
     "name": "stdout",
     "output_type": "stream",
     "text": [
      "MF: 2.517, BKG: 86.201\n",
      "y = 2.517 * L + 86.201\n"
     ]
    }
   ],
   "source": [
    "(MF,BKG),_ = optimize.curve_fit(model,L,Y)\n",
    "print('MF: {0:.3f}, BKG: {1:.3f}'.format(MF,BKG))\n",
    "print('y = {0:.3f} * L + {1:.3f}'.format(MF, BKG))\n"
   ]
  },
  {
   "cell_type": "markdown",
   "metadata": {},
   "source": [
    "## Curve-fitting to binding saturation curve"
   ]
  },
  {
   "cell_type": "markdown",
   "metadata": {},
   "source": [
    "Fluorescence intensity vs added ligand\n",
    "\n",
    "LR= ((X+Rtot+KD)-SQRT((X+Rtot+KD)^2-4*X*Rtot))/2\n",
    "\n",
    "L= X - LR\n",
    "\n",
    "Y= BKG + MF*L + FR*MF*LR\n",
    "\n",
    "\n",
    "####Constants\n",
    "Rtot: receptor concentration (uM)\n",
    "\n",
    "BKG: background fluorescence without ligand (Flu unit)\n",
    "\n",
    "MF: molar fluorescence of free ligand (Flu unit/ uM)\n",
    "\n",
    "####Parameters to fit\n",
    "Kd: dissociation constant (uM)\n",
    "\n",
    "FR: Molar fluorescence ratio of complex to free ligand (unitless)\n",
    "    complex flurescence = FR*MF*LR\n",
    "\n",
    "####Experimental data\n",
    "Y: fluorescence measurement\n",
    "X: total ligand concentration\n",
    "L: free ligand concentration\n"
   ]
  },
  {
   "cell_type": "code",
   "execution_count": 82,
   "metadata": {
    "collapsed": true
   },
   "outputs": [],
   "source": [
    "def model2(x,kd,fr):\n",
    "    ''' 1D linear model in the format scipy.optimize.curve_fit expects: '''\n",
    "    # lr =((x+rtot+kd)-((x+rtot+kd)**2-4*x*rtot)**(1/2))/2\n",
    "    # y = bkg + mf*(x - lr) + fr*mf*lr\n",
    "    bkg = 86.2\n",
    "    mf = 2.517\n",
    "    rtot = 0.5\n",
    "    return bkg + mf*(x - ((x+rtot+kd)-((x+rtot+kd)**2-4*x*rtot)**(1/2))/2) + fr*mf*(((x+rtot+kd)-((x+rtot+kd)**2-4*x*rtot)**(1/2))/2)"
   ]
  },
  {
   "cell_type": "code",
   "execution_count": 78,
   "metadata": {
    "collapsed": false
   },
   "outputs": [
    {
     "data": {
      "text/plain": [
       "48"
      ]
     },
     "execution_count": 78,
     "metadata": {},
     "output_type": "execute_result"
    }
   ],
   "source": [
    "# Total HSA concentration (uM)\n",
    "Rtot = 0.5\n",
    "#Total ligand titration\n",
    "X = L\n",
    "len(X)\n"
   ]
  },
  {
   "cell_type": "code",
   "execution_count": 79,
   "metadata": {
    "collapsed": false
   },
   "outputs": [
    {
     "data": {
      "text/html": [
       "<div>\n",
       "<table border=\"1\" class=\"dataframe\">\n",
       "  <thead>\n",
       "    <tr style=\"text-align: right;\">\n",
       "      <th></th>\n",
       "      <th>A - HSA</th>\n",
       "      <th>C - HSA</th>\n",
       "      <th>E - HSA</th>\n",
       "      <th>G - HSA</th>\n",
       "    </tr>\n",
       "  </thead>\n",
       "  <tbody>\n",
       "    <tr>\n",
       "      <th>0</th>\n",
       "      <td>947</td>\n",
       "      <td>934</td>\n",
       "      <td>935</td>\n",
       "      <td>946</td>\n",
       "    </tr>\n",
       "    <tr>\n",
       "      <th>1</th>\n",
       "      <td>636</td>\n",
       "      <td>646</td>\n",
       "      <td>652</td>\n",
       "      <td>631</td>\n",
       "    </tr>\n",
       "    <tr>\n",
       "      <th>2</th>\n",
       "      <td>434</td>\n",
       "      <td>435</td>\n",
       "      <td>457</td>\n",
       "      <td>486</td>\n",
       "    </tr>\n",
       "    <tr>\n",
       "      <th>3</th>\n",
       "      <td>296</td>\n",
       "      <td>314</td>\n",
       "      <td>307</td>\n",
       "      <td>336</td>\n",
       "    </tr>\n",
       "    <tr>\n",
       "      <th>4</th>\n",
       "      <td>212</td>\n",
       "      <td>221</td>\n",
       "      <td>267</td>\n",
       "      <td>245</td>\n",
       "    </tr>\n",
       "    <tr>\n",
       "      <th>5</th>\n",
       "      <td>152</td>\n",
       "      <td>150</td>\n",
       "      <td>157</td>\n",
       "      <td>174</td>\n",
       "    </tr>\n",
       "    <tr>\n",
       "      <th>6</th>\n",
       "      <td>114</td>\n",
       "      <td>114</td>\n",
       "      <td>108</td>\n",
       "      <td>130</td>\n",
       "    </tr>\n",
       "    <tr>\n",
       "      <th>7</th>\n",
       "      <td>92</td>\n",
       "      <td>91</td>\n",
       "      <td>86</td>\n",
       "      <td>102</td>\n",
       "    </tr>\n",
       "    <tr>\n",
       "      <th>8</th>\n",
       "      <td>78</td>\n",
       "      <td>75</td>\n",
       "      <td>78</td>\n",
       "      <td>92</td>\n",
       "    </tr>\n",
       "    <tr>\n",
       "      <th>9</th>\n",
       "      <td>70</td>\n",
       "      <td>71</td>\n",
       "      <td>71</td>\n",
       "      <td>86</td>\n",
       "    </tr>\n",
       "    <tr>\n",
       "      <th>10</th>\n",
       "      <td>70</td>\n",
       "      <td>71</td>\n",
       "      <td>70</td>\n",
       "      <td>197</td>\n",
       "    </tr>\n",
       "    <tr>\n",
       "      <th>11</th>\n",
       "      <td>67</td>\n",
       "      <td>70</td>\n",
       "      <td>71</td>\n",
       "      <td>78</td>\n",
       "    </tr>\n",
       "  </tbody>\n",
       "</table>\n",
       "</div>"
      ],
      "text/plain": [
       "    A - HSA  C - HSA  E - HSA  G - HSA\n",
       "0       947      934      935      946\n",
       "1       636      646      652      631\n",
       "2       434      435      457      486\n",
       "3       296      314      307      336\n",
       "4       212      221      267      245\n",
       "5       152      150      157      174\n",
       "6       114      114      108      130\n",
       "7        92       91       86      102\n",
       "8        78       75       78       92\n",
       "9        70       71       71       86\n",
       "10       70       71       70      197\n",
       "11       67       70       71       78"
      ]
     },
     "execution_count": 79,
     "metadata": {},
     "output_type": "execute_result"
    }
   ],
   "source": [
    "# Fluorescence read\n",
    "df_topread.loc[:,(\"A - HSA\", \"C - HSA\", \"E - HSA\", \"G - HSA\")]"
   ]
  },
  {
   "cell_type": "code",
   "execution_count": 80,
   "metadata": {
    "collapsed": false
   },
   "outputs": [
    {
     "data": {
      "text/plain": [
       "48"
      ]
     },
     "execution_count": 80,
     "metadata": {},
     "output_type": "execute_result"
    }
   ],
   "source": [
    "A=df_topread.loc[:,(\"A - HSA\")]\n",
    "C=df_topread.loc[:,(\"C - HSA\")]\n",
    "E=df_topread.loc[:,(\"E - HSA\")]\n",
    "G=df_topread.loc[:,(\"G - HSA\")]\n",
    "\n",
    "Y = np.concatenate((A.as_matrix(),C.as_matrix(),E.as_matrix(),G.as_matrix()))\n",
    "len(Y)"
   ]
  },
  {
   "cell_type": "code",
   "execution_count": 81,
   "metadata": {
    "collapsed": false
   },
   "outputs": [
    {
     "name": "stdout",
     "output_type": "stream",
     "text": [
      "Kd: 30.691, Fr: 2.510\n"
     ]
    }
   ],
   "source": [
    "(Kd,FR),_ = optimize.curve_fit(model2, X, Y, p0=(5,1))\n",
    "\n",
    "print('Kd: {0:.3f}, Fr: {1:.3f}'.format(Kd,FR))\n"
   ]
  },
  {
   "cell_type": "code",
   "execution_count": null,
   "metadata": {
    "collapsed": true
   },
   "outputs": [],
   "source": []
  }
 ],
 "metadata": {
  "kernelspec": {
   "display_name": "Python 2",
   "language": "python",
   "name": "python2"
  },
  "language_info": {
   "codemirror_mode": {
    "name": "ipython",
    "version": 2
   },
   "file_extension": ".py",
   "mimetype": "text/x-python",
   "name": "python",
   "nbconvert_exporter": "python",
   "pygments_lexer": "ipython2",
   "version": "2.7.10"
  }
 },
 "nbformat": 4,
 "nbformat_minor": 0
}
