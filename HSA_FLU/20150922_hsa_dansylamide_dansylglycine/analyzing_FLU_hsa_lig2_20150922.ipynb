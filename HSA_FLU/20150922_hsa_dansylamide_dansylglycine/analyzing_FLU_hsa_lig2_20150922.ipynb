{
 "cells": [
  {
   "cell_type": "markdown",
   "metadata": {},
   "source": [
    "# FLUORESCENCE BINDING ASSAY ANALYSIS\n",
    "Experiment date: 2015/09/22\n",
    "\n",
    "Protein: HSA\n",
    "\n",
    "Fluorescent ligand : dansyl glycine(lig2)"
   ]
  },
  {
   "cell_type": "markdown",
   "metadata": {},
   "source": [
    "Xml parsing parts adopted from Sonya's assaytools/examples/fluorescence-binding-assay/Src-gefitinib fluorescence simple.ipynb"
   ]
  },
  {
   "cell_type": "code",
   "execution_count": 1,
   "metadata": {
    "collapsed": false
   },
   "outputs": [
    {
     "name": "stdout",
     "output_type": "stream",
     "text": [
      "Populating the interactive namespace from numpy and matplotlib\n"
     ]
    }
   ],
   "source": [
    "import numpy as np\n",
    "import matplotlib.pyplot as plt\n",
    "from lxml import etree\n",
    "import pandas as pd\n",
    "import os\n",
    "import matplotlib.cm as cm \n",
    "import seaborn as sns\n",
    "%pylab inline"
   ]
  },
  {
   "cell_type": "code",
   "execution_count": 2,
   "metadata": {
    "collapsed": true
   },
   "outputs": [],
   "source": [
    "# Get read and position data of each fluorescence reading section\n",
    "def get_wells_from_section(path):\n",
    "    reads = path.xpath(\"*/Well\")\n",
    "    wellIDs = [read.attrib['Pos'] for read in reads]\n",
    "\n",
    "    data = [(float(s.text), r.attrib['Pos'])\n",
    "         for r in reads\n",
    "         for s in r]\n",
    "\n",
    "    datalist = {\n",
    "      well : value\n",
    "      for (value, well) in data\n",
    "    }\n",
    "    \n",
    "    welllist = [\n",
    "                [\n",
    "                 datalist[chr(64 + row) + str(col)]          \n",
    "                 if chr(64 + row) + str(col) in datalist else None\n",
    "                 for row in range(1,9)\n",
    "                ]\n",
    "                for col in range(1,13)\n",
    "                ]\n",
    "                \n",
    "    return welllist"
   ]
  },
  {
   "cell_type": "code",
   "execution_count": 5,
   "metadata": {
    "collapsed": false
   },
   "outputs": [
    {
     "name": "stdout",
     "output_type": "stream",
     "text": [
      "MI_FLU_hsa_lig2_20150922_\n"
     ]
    }
   ],
   "source": [
    "file_lig=\"MI_FLU_hsa_lig2_20150922_164254.xml\"\n",
    "file_name = os.path.splitext(file_lig1)[0]\n",
    "label = file_name[0:25]\n",
    "print label"
   ]
  },
  {
   "cell_type": "code",
   "execution_count": 6,
   "metadata": {
    "collapsed": false
   },
   "outputs": [
    {
     "name": "stdout",
     "output_type": "stream",
     "text": [
      "****The xml file MI_FLU_hsa_lig2_20150922_164254.xml has 3 data sections:****\n",
      "ex350_em480_topRead\n",
      "ex350_em480_bottomRead\n",
      "Abs_600\n"
     ]
    }
   ],
   "source": [
    "root = etree.parse(file_lig)\n",
    "\n",
    "#find data sections\n",
    "Sections = root.xpath(\"/*/Section\")\n",
    "much = len(Sections)\n",
    "print \"****The xml file \" + file_lig + \" has %s data sections:****\" % much\n",
    "for sect in Sections:\n",
    "    print sect.attrib['Name']"
   ]
  },
  {
   "cell_type": "code",
   "execution_count": 7,
   "metadata": {
    "collapsed": false
   },
   "outputs": [
    {
     "data": {
      "text/html": [
       "<div>\n",
       "<table border=\"1\" class=\"dataframe\">\n",
       "  <thead>\n",
       "    <tr style=\"text-align: right;\">\n",
       "      <th></th>\n",
       "      <th>0</th>\n",
       "      <th>1</th>\n",
       "      <th>2</th>\n",
       "      <th>3</th>\n",
       "      <th>4</th>\n",
       "      <th>5</th>\n",
       "      <th>6</th>\n",
       "      <th>7</th>\n",
       "      <th>8</th>\n",
       "      <th>9</th>\n",
       "      <th>10</th>\n",
       "      <th>11</th>\n",
       "    </tr>\n",
       "  </thead>\n",
       "  <tbody>\n",
       "    <tr>\n",
       "      <th>A - HSA</th>\n",
       "      <td>1302</td>\n",
       "      <td>1087</td>\n",
       "      <td>846</td>\n",
       "      <td>635</td>\n",
       "      <td>509</td>\n",
       "      <td>369</td>\n",
       "      <td>270</td>\n",
       "      <td>172</td>\n",
       "      <td>134</td>\n",
       "      <td>113</td>\n",
       "      <td>105</td>\n",
       "      <td>93</td>\n",
       "    </tr>\n",
       "    <tr>\n",
       "      <th>B - Buffer</th>\n",
       "      <td>531</td>\n",
       "      <td>329</td>\n",
       "      <td>200</td>\n",
       "      <td>149</td>\n",
       "      <td>130</td>\n",
       "      <td>115</td>\n",
       "      <td>110</td>\n",
       "      <td>108</td>\n",
       "      <td>108</td>\n",
       "      <td>135</td>\n",
       "      <td>113</td>\n",
       "      <td>116</td>\n",
       "    </tr>\n",
       "    <tr>\n",
       "      <th>C - HSA</th>\n",
       "      <td>1395</td>\n",
       "      <td>1248</td>\n",
       "      <td>1000</td>\n",
       "      <td>779</td>\n",
       "      <td>573</td>\n",
       "      <td>408</td>\n",
       "      <td>271</td>\n",
       "      <td>185</td>\n",
       "      <td>140</td>\n",
       "      <td>116</td>\n",
       "      <td>105</td>\n",
       "      <td>110</td>\n",
       "    </tr>\n",
       "    <tr>\n",
       "      <th>D - Buffer</th>\n",
       "      <td>573</td>\n",
       "      <td>342</td>\n",
       "      <td>210</td>\n",
       "      <td>151</td>\n",
       "      <td>118</td>\n",
       "      <td>117</td>\n",
       "      <td>110</td>\n",
       "      <td>114</td>\n",
       "      <td>113</td>\n",
       "      <td>109</td>\n",
       "      <td>131</td>\n",
       "      <td>108</td>\n",
       "    </tr>\n",
       "    <tr>\n",
       "      <th>E - HSA</th>\n",
       "      <td>1423</td>\n",
       "      <td>1247</td>\n",
       "      <td>991</td>\n",
       "      <td>770</td>\n",
       "      <td>564</td>\n",
       "      <td>407</td>\n",
       "      <td>262</td>\n",
       "      <td>179</td>\n",
       "      <td>134</td>\n",
       "      <td>114</td>\n",
       "      <td>114</td>\n",
       "      <td>96</td>\n",
       "    </tr>\n",
       "    <tr>\n",
       "      <th>F - Buffer</th>\n",
       "      <td>529</td>\n",
       "      <td>318</td>\n",
       "      <td>195</td>\n",
       "      <td>144</td>\n",
       "      <td>126</td>\n",
       "      <td>113</td>\n",
       "      <td>110</td>\n",
       "      <td>110</td>\n",
       "      <td>109</td>\n",
       "      <td>112</td>\n",
       "      <td>111</td>\n",
       "      <td>114</td>\n",
       "    </tr>\n",
       "    <tr>\n",
       "      <th>G - HSA</th>\n",
       "      <td>1357</td>\n",
       "      <td>1258</td>\n",
       "      <td>999</td>\n",
       "      <td>771</td>\n",
       "      <td>583</td>\n",
       "      <td>406</td>\n",
       "      <td>252</td>\n",
       "      <td>180</td>\n",
       "      <td>137</td>\n",
       "      <td>113</td>\n",
       "      <td>121</td>\n",
       "      <td>96</td>\n",
       "    </tr>\n",
       "    <tr>\n",
       "      <th>H - Buffer</th>\n",
       "      <td>554</td>\n",
       "      <td>326</td>\n",
       "      <td>201</td>\n",
       "      <td>336</td>\n",
       "      <td>117</td>\n",
       "      <td>113</td>\n",
       "      <td>105</td>\n",
       "      <td>110</td>\n",
       "      <td>112</td>\n",
       "      <td>112</td>\n",
       "      <td>107</td>\n",
       "      <td>115</td>\n",
       "    </tr>\n",
       "  </tbody>\n",
       "</table>\n",
       "</div>"
      ],
      "text/plain": [
       "              0     1     2    3    4    5    6    7    8    9    10   11\n",
       "A - HSA     1302  1087   846  635  509  369  270  172  134  113  105   93\n",
       "B - Buffer   531   329   200  149  130  115  110  108  108  135  113  116\n",
       "C - HSA     1395  1248  1000  779  573  408  271  185  140  116  105  110\n",
       "D - Buffer   573   342   210  151  118  117  110  114  113  109  131  108\n",
       "E - HSA     1423  1247   991  770  564  407  262  179  134  114  114   96\n",
       "F - Buffer   529   318   195  144  126  113  110  110  109  112  111  114\n",
       "G - HSA     1357  1258   999  771  583  406  252  180  137  113  121   96\n",
       "H - Buffer   554   326   201  336  117  113  105  110  112  112  107  115"
      ]
     },
     "execution_count": 7,
     "metadata": {},
     "output_type": "execute_result"
    }
   ],
   "source": [
    "#Work with topread\n",
    "TopRead = root.xpath(\"/*/Section\")[0]\n",
    "welllist = get_wells_from_section(TopRead)\n",
    "\n",
    "df_topread = pd.DataFrame(welllist, columns = ['A - HSA','B - Buffer','C - HSA','D - Buffer', 'E - HSA','F - Buffer','G - HSA','H - Buffer'])\n",
    "df_topread.transpose()"
   ]
  },
  {
   "cell_type": "code",
   "execution_count": 10,
   "metadata": {
    "collapsed": true
   },
   "outputs": [],
   "source": [
    "# To generate cvs file\n",
    "# df_topread.transpose().to_csv(label + Sections[0].attrib['Name']+ \".csv\")"
   ]
  },
  {
   "cell_type": "markdown",
   "metadata": {},
   "source": [
    "## Calculating Molar Fluorescence (MF) of Free Ligand "
   ]
  },
  {
   "cell_type": "markdown",
   "metadata": {},
   "source": [
    "### 1. Maximum likelihood curve-fitting\n",
    "Find the maximum likelihood estimate, $\\theta^*$, i.e. the curve that minimizes the squared error $\\theta^* = \\text{argmin} \\sum_i |y_i - f_\\theta(x_i)|^2$ (assuming i.i.d. Gaussian noise)"
   ]
  },
  {
   "cell_type": "markdown",
   "metadata": {},
   "source": [
    "Y = MF*L + BKG\n",
    "\n",
    "Y: Fluorescence read (Flu unit)\n",
    "\n",
    "L: Total ligand concentration (uM)\n",
    "\n",
    "BKG: background fluorescence without ligand (Flu unit)\n",
    "\n",
    "MF: molar fluorescence of free ligand (Flu unit/ uM)\n"
   ]
  },
  {
   "cell_type": "code",
   "execution_count": 8,
   "metadata": {
    "collapsed": false
   },
   "outputs": [
    {
     "data": {
      "text/plain": [
       "array([  2.00000000e+02,   8.66000000e+01,   3.75000000e+01,\n",
       "         1.62000000e+01,   7.02000000e+00,   3.04000000e+00,\n",
       "         1.32000000e+00,   5.70000000e-01,   2.47000000e-01,\n",
       "         1.07000000e-01,   4.62000000e-02,   2.00000000e-02])"
      ]
     },
     "execution_count": 8,
     "metadata": {},
     "output_type": "execute_result"
    }
   ],
   "source": [
    "import numpy as np\n",
    "from scipy import optimize\n",
    "import matplotlib.pyplot as plt\n",
    "%matplotlib inline\n",
    "\n",
    "def model(x,slope,intercept):\n",
    "    ''' 1D linear model in the format scipy.optimize.curve_fit expects: '''\n",
    "    return x*slope + intercept\n",
    "\n",
    "# generate some data\n",
    "#X = np.random.rand(1000)\n",
    "#true_slope=1.0\n",
    "#true_intercept=0.0\n",
    "#noise = np.random.randn(len(X))*0.1\n",
    "#Y = model(X,slope=true_slope,intercept=true_intercept) + noise\n",
    "\n",
    "#ligand titration\n",
    "lig2=np.array([200.0000,86.6000,37.5000,16.2000,7.0200, 3.0400, 1.3200, 0.5700, 0.2470, 0.1070, 0.0462, 0.0200])\n",
    "lig2"
   ]
  },
  {
   "cell_type": "code",
   "execution_count": 9,
   "metadata": {
    "collapsed": false
   },
   "outputs": [
    {
     "data": {
      "text/plain": [
       "48"
      ]
     },
     "execution_count": 9,
     "metadata": {},
     "output_type": "execute_result"
    }
   ],
   "source": [
    "# Since I have 4 replicates\n",
    "L=np.concatenate((lig2, lig2, lig2, lig2))\n",
    "len(L)"
   ]
  },
  {
   "cell_type": "code",
   "execution_count": 36,
   "metadata": {
    "collapsed": false
   },
   "outputs": [
    {
     "data": {
      "text/html": [
       "<div>\n",
       "<table border=\"1\" class=\"dataframe\">\n",
       "  <thead>\n",
       "    <tr style=\"text-align: right;\">\n",
       "      <th></th>\n",
       "      <th>B - Buffer</th>\n",
       "      <th>D - Buffer</th>\n",
       "      <th>F - Buffer</th>\n",
       "      <th>H - Buffer</th>\n",
       "    </tr>\n",
       "  </thead>\n",
       "  <tbody>\n",
       "    <tr>\n",
       "      <th>0</th>\n",
       "      <td>540</td>\n",
       "      <td>572</td>\n",
       "      <td>557</td>\n",
       "      <td>651</td>\n",
       "    </tr>\n",
       "    <tr>\n",
       "      <th>1</th>\n",
       "      <td>306</td>\n",
       "      <td>311</td>\n",
       "      <td>310</td>\n",
       "      <td>364</td>\n",
       "    </tr>\n",
       "    <tr>\n",
       "      <th>2</th>\n",
       "      <td>184</td>\n",
       "      <td>182</td>\n",
       "      <td>183</td>\n",
       "      <td>210</td>\n",
       "    </tr>\n",
       "    <tr>\n",
       "      <th>3</th>\n",
       "      <td>122</td>\n",
       "      <td>130</td>\n",
       "      <td>121</td>\n",
       "      <td>139</td>\n",
       "    </tr>\n",
       "    <tr>\n",
       "      <th>4</th>\n",
       "      <td>95</td>\n",
       "      <td>98</td>\n",
       "      <td>99</td>\n",
       "      <td>113</td>\n",
       "    </tr>\n",
       "    <tr>\n",
       "      <th>5</th>\n",
       "      <td>96</td>\n",
       "      <td>86</td>\n",
       "      <td>87</td>\n",
       "      <td>107</td>\n",
       "    </tr>\n",
       "    <tr>\n",
       "      <th>6</th>\n",
       "      <td>84</td>\n",
       "      <td>80</td>\n",
       "      <td>82</td>\n",
       "      <td>96</td>\n",
       "    </tr>\n",
       "    <tr>\n",
       "      <th>7</th>\n",
       "      <td>78</td>\n",
       "      <td>82</td>\n",
       "      <td>82</td>\n",
       "      <td>98</td>\n",
       "    </tr>\n",
       "    <tr>\n",
       "      <th>8</th>\n",
       "      <td>83</td>\n",
       "      <td>85</td>\n",
       "      <td>79</td>\n",
       "      <td>93</td>\n",
       "    </tr>\n",
       "    <tr>\n",
       "      <th>9</th>\n",
       "      <td>80</td>\n",
       "      <td>78</td>\n",
       "      <td>80</td>\n",
       "      <td>89</td>\n",
       "    </tr>\n",
       "    <tr>\n",
       "      <th>10</th>\n",
       "      <td>81</td>\n",
       "      <td>81</td>\n",
       "      <td>80</td>\n",
       "      <td>97</td>\n",
       "    </tr>\n",
       "    <tr>\n",
       "      <th>11</th>\n",
       "      <td>84</td>\n",
       "      <td>80</td>\n",
       "      <td>81</td>\n",
       "      <td>93</td>\n",
       "    </tr>\n",
       "  </tbody>\n",
       "</table>\n",
       "</div>"
      ],
      "text/plain": [
       "    B - Buffer  D - Buffer  F - Buffer  H - Buffer\n",
       "0          540         572         557         651\n",
       "1          306         311         310         364\n",
       "2          184         182         183         210\n",
       "3          122         130         121         139\n",
       "4           95          98          99         113\n",
       "5           96          86          87         107\n",
       "6           84          80          82          96\n",
       "7           78          82          82          98\n",
       "8           83          85          79          93\n",
       "9           80          78          80          89\n",
       "10          81          81          80          97\n",
       "11          84          80          81          93"
      ]
     },
     "execution_count": 36,
     "metadata": {},
     "output_type": "execute_result"
    }
   ],
   "source": [
    "# Fluorescence read\n",
    "df_topread.loc[:,(\"B - Buffer\", \"D - Buffer\", \"F - Buffer\", \"H - Buffer\")]"
   ]
  },
  {
   "cell_type": "code",
   "execution_count": 10,
   "metadata": {
    "collapsed": false
   },
   "outputs": [],
   "source": [
    "B=df_topread.loc[:,(\"B - Buffer\")]\n",
    "D=df_topread.loc[:,(\"D - Buffer\")]\n",
    "F=df_topread.loc[:,(\"F - Buffer\")]\n",
    "H=df_topread.loc[:,(\"H - Buffer\")]\n",
    "\n",
    "Y = np.concatenate((B.as_matrix(),D.as_matrix(),F.as_matrix(),H.as_matrix()))"
   ]
  },
  {
   "cell_type": "code",
   "execution_count": 11,
   "metadata": {
    "collapsed": false
   },
   "outputs": [
    {
     "name": "stdout",
     "output_type": "stream",
     "text": [
      "MF: 2.207, BKG: 117.187\n",
      "y = 2.207 * L + 117.187\n"
     ]
    }
   ],
   "source": [
    "(MF,BKG),_ = optimize.curve_fit(model,L,Y)\n",
    "print('MF: {0:.3f}, BKG: {1:.3f}'.format(MF,BKG))\n",
    "print('y = {0:.3f} * L + {1:.3f}'.format(MF, BKG))\n"
   ]
  },
  {
   "cell_type": "markdown",
   "metadata": {},
   "source": [
    "## Curve-fitting to binding saturation curve"
   ]
  },
  {
   "cell_type": "markdown",
   "metadata": {},
   "source": [
    "Fluorescence intensity vs added ligand\n",
    "\n",
    "LR= ((X+Rtot+KD)-SQRT((X+Rtot+KD)^2-4*X*Rtot))/2\n",
    "\n",
    "L= X - LR\n",
    "\n",
    "Y= BKG + MF*L + FR*MF*LR\n",
    "\n",
    "\n",
    "####Constants\n",
    "Rtot: receptor concentration (uM)\n",
    "\n",
    "BKG: background fluorescence without ligand (Flu unit)\n",
    "\n",
    "MF: molar fluorescence of free ligand (Flu unit/ uM)\n",
    "\n",
    "####Parameters to fit\n",
    "Kd: dissociation constant (uM)\n",
    "\n",
    "FR: Molar fluorescence ratio of complex to free ligand (unitless)\n",
    "    complex flurescence = FR*MF*LR\n",
    "\n",
    "####Experimental data\n",
    "Y: fluorescence measurement\n",
    "X: total ligand concentration\n",
    "L: free ligand concentration\n"
   ]
  },
  {
   "cell_type": "code",
   "execution_count": 12,
   "metadata": {
    "collapsed": true
   },
   "outputs": [],
   "source": [
    "def model2(x,kd,fr):\n",
    "    ''' 1D linear model in the format scipy.optimize.curve_fit expects: '''\n",
    "    # lr =((x+rtot+kd)-((x+rtot+kd)**2-4*x*rtot)**(1/2))/2\n",
    "    # y = bkg + mf*(x - lr) + fr*mf*lr\n",
    "    bkg = 86.2\n",
    "    mf = 2.517\n",
    "    rtot = 0.5\n",
    "    return bkg + mf*(x - ((x+rtot+kd)-((x+rtot+kd)**2-4*x*rtot)**(1/2))/2) + fr*mf*(((x+rtot+kd)-((x+rtot+kd)**2-4*x*rtot)**(1/2))/2)"
   ]
  },
  {
   "cell_type": "code",
   "execution_count": 13,
   "metadata": {
    "collapsed": false
   },
   "outputs": [
    {
     "data": {
      "text/plain": [
       "48"
      ]
     },
     "execution_count": 13,
     "metadata": {},
     "output_type": "execute_result"
    }
   ],
   "source": [
    "# Total HSA concentration (uM)\n",
    "Rtot = 0.5\n",
    "#Total ligand titration\n",
    "X = L\n",
    "len(X)\n"
   ]
  },
  {
   "cell_type": "code",
   "execution_count": 14,
   "metadata": {
    "collapsed": false
   },
   "outputs": [
    {
     "data": {
      "text/html": [
       "<div>\n",
       "<table border=\"1\" class=\"dataframe\">\n",
       "  <thead>\n",
       "    <tr style=\"text-align: right;\">\n",
       "      <th></th>\n",
       "      <th>A - HSA</th>\n",
       "      <th>C - HSA</th>\n",
       "      <th>E - HSA</th>\n",
       "      <th>G - HSA</th>\n",
       "    </tr>\n",
       "  </thead>\n",
       "  <tbody>\n",
       "    <tr>\n",
       "      <th>0</th>\n",
       "      <td>1302</td>\n",
       "      <td>1395</td>\n",
       "      <td>1423</td>\n",
       "      <td>1357</td>\n",
       "    </tr>\n",
       "    <tr>\n",
       "      <th>1</th>\n",
       "      <td>1087</td>\n",
       "      <td>1248</td>\n",
       "      <td>1247</td>\n",
       "      <td>1258</td>\n",
       "    </tr>\n",
       "    <tr>\n",
       "      <th>2</th>\n",
       "      <td>846</td>\n",
       "      <td>1000</td>\n",
       "      <td>991</td>\n",
       "      <td>999</td>\n",
       "    </tr>\n",
       "    <tr>\n",
       "      <th>3</th>\n",
       "      <td>635</td>\n",
       "      <td>779</td>\n",
       "      <td>770</td>\n",
       "      <td>771</td>\n",
       "    </tr>\n",
       "    <tr>\n",
       "      <th>4</th>\n",
       "      <td>509</td>\n",
       "      <td>573</td>\n",
       "      <td>564</td>\n",
       "      <td>583</td>\n",
       "    </tr>\n",
       "    <tr>\n",
       "      <th>5</th>\n",
       "      <td>369</td>\n",
       "      <td>408</td>\n",
       "      <td>407</td>\n",
       "      <td>406</td>\n",
       "    </tr>\n",
       "    <tr>\n",
       "      <th>6</th>\n",
       "      <td>270</td>\n",
       "      <td>271</td>\n",
       "      <td>262</td>\n",
       "      <td>252</td>\n",
       "    </tr>\n",
       "    <tr>\n",
       "      <th>7</th>\n",
       "      <td>172</td>\n",
       "      <td>185</td>\n",
       "      <td>179</td>\n",
       "      <td>180</td>\n",
       "    </tr>\n",
       "    <tr>\n",
       "      <th>8</th>\n",
       "      <td>134</td>\n",
       "      <td>140</td>\n",
       "      <td>134</td>\n",
       "      <td>137</td>\n",
       "    </tr>\n",
       "    <tr>\n",
       "      <th>9</th>\n",
       "      <td>113</td>\n",
       "      <td>116</td>\n",
       "      <td>114</td>\n",
       "      <td>113</td>\n",
       "    </tr>\n",
       "    <tr>\n",
       "      <th>10</th>\n",
       "      <td>105</td>\n",
       "      <td>105</td>\n",
       "      <td>114</td>\n",
       "      <td>121</td>\n",
       "    </tr>\n",
       "    <tr>\n",
       "      <th>11</th>\n",
       "      <td>93</td>\n",
       "      <td>110</td>\n",
       "      <td>96</td>\n",
       "      <td>96</td>\n",
       "    </tr>\n",
       "  </tbody>\n",
       "</table>\n",
       "</div>"
      ],
      "text/plain": [
       "    A - HSA  C - HSA  E - HSA  G - HSA\n",
       "0      1302     1395     1423     1357\n",
       "1      1087     1248     1247     1258\n",
       "2       846     1000      991      999\n",
       "3       635      779      770      771\n",
       "4       509      573      564      583\n",
       "5       369      408      407      406\n",
       "6       270      271      262      252\n",
       "7       172      185      179      180\n",
       "8       134      140      134      137\n",
       "9       113      116      114      113\n",
       "10      105      105      114      121\n",
       "11       93      110       96       96"
      ]
     },
     "execution_count": 14,
     "metadata": {},
     "output_type": "execute_result"
    }
   ],
   "source": [
    "# Fluorescence read\n",
    "df_topread.loc[:,(\"A - HSA\", \"C - HSA\", \"E - HSA\", \"G - HSA\")]"
   ]
  },
  {
   "cell_type": "code",
   "execution_count": 15,
   "metadata": {
    "collapsed": false
   },
   "outputs": [
    {
     "data": {
      "text/plain": [
       "48"
      ]
     },
     "execution_count": 15,
     "metadata": {},
     "output_type": "execute_result"
    }
   ],
   "source": [
    "A=df_topread.loc[:,(\"A - HSA\")]\n",
    "C=df_topread.loc[:,(\"C - HSA\")]\n",
    "E=df_topread.loc[:,(\"E - HSA\")]\n",
    "G=df_topread.loc[:,(\"G - HSA\")]\n",
    "\n",
    "Y = np.concatenate((A.as_matrix(),C.as_matrix(),E.as_matrix(),G.as_matrix()))\n",
    "len(Y)"
   ]
  },
  {
   "cell_type": "code",
   "execution_count": 16,
   "metadata": {
    "collapsed": false
   },
   "outputs": [
    {
     "name": "stdout",
     "output_type": "stream",
     "text": [
      "Kd: 59.663, Fr: 4.150\n"
     ]
    }
   ],
   "source": [
    "(Kd,FR),_ = optimize.curve_fit(model2, X, Y, p0=(5,1))\n",
    "\n",
    "print('Kd: {0:.3f}, Fr: {1:.3f}'.format(Kd,FR))\n"
   ]
  },
  {
   "cell_type": "code",
   "execution_count": null,
   "metadata": {
    "collapsed": true
   },
   "outputs": [],
   "source": []
  }
 ],
 "metadata": {
  "kernelspec": {
   "display_name": "Python 2",
   "language": "python",
   "name": "python2"
  },
  "language_info": {
   "codemirror_mode": {
    "name": "ipython",
    "version": 2
   },
   "file_extension": ".py",
   "mimetype": "text/x-python",
   "name": "python",
   "nbconvert_exporter": "python",
   "pygments_lexer": "ipython2",
   "version": "2.7.10"
  }
 },
 "nbformat": 4,
 "nbformat_minor": 0
}
